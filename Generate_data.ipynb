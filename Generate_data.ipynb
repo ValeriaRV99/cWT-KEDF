{
 "cells": [
  {
   "cell_type": "code",
   "execution_count": 1,
   "id": "0206a193",
   "metadata": {
    "scrolled": true
   },
   "outputs": [
    {
     "name": "stderr",
     "output_type": "stream",
     "text": [
      "/home/vr371/.local/lib/python3.8/site-packages/ase/lattice/spacegroup.py:5: UserWarning: Moved to ase.spacegroup\n",
      "  warnings.warn('Moved to ase.spacegroup')\n"
     ]
    }
   ],
   "source": [
    "import numpy as np\n",
    "from matplotlib import pyplot as plt\n",
    "from dftpy.ions import Ions\n",
    "from ase.build import bulk\n",
    "from ase.io import read\n",
    "from ase.lattice.spacegroup import Spacegroup\n",
    "from ase.lattice.spacegroup import crystal\n",
    "\n",
    "from scipy.optimize import minimize"
   ]
  },
  {
   "cell_type": "markdown",
   "id": "74259ffc",
   "metadata": {},
   "source": [
    "#### Purpose \n",
    "Since we observed a pattern in $\\rho_{0}$ we can learn it with the data we generated. To relate $\\rho_{0}$ with the phases of Si and its size we built Ewal sum matrix descriptors for all the phases. "
   ]
  },
  {
   "cell_type": "markdown",
   "id": "d8a23530",
   "metadata": {},
   "source": [
    "#### Creating the database \n",
    "We create the Ewal sum matrix for the five phases of silicon."
   ]
  },
  {
   "cell_type": "code",
   "execution_count": 2,
   "id": "35378dc2",
   "metadata": {
    "scrolled": true
   },
   "outputs": [],
   "source": [
    "from dscribe.descriptors import CoulombMatrix, SineMatrix, EwaldSumMatrix, SOAP\n",
    "traj_Btin = []\n",
    "tral_fcc = []\n",
    "traj_bcc = []\n",
    "traj_8cd = []\n",
    "traj_7cd = []\n",
    "Ewal_matrices = []\n",
    "Sine_matrices = []\n",
    "Sine_gradient = []\n",
    "Soap_matrices = []\n",
    "\n",
    "r = np.linspace(0.8, 1.4, 30)\n",
    "for i, d in enumerate(r):\n",
    "    si_Btin = Ions.from_ase(crystal('Si',[(0,0,0)],spacegroup=141,cellpar = [4.81,4.81,2.65, 90,90,90]))\n",
    "    cell = si_Btin.get_cell()\n",
    "    si_Btin.set_cell(cell * d, scale_atoms=True)\n",
    "    \n",
    "    si_fcc = Ions.from_ase(bulk('Si', 'fcc', a= 3.405, cubic=True))\n",
    "    cell = si_fcc.get_cell()\n",
    "    si_fcc.set_cell(cell * d, scale_atoms=True)\n",
    "    \n",
    "    si_bcc = Ions.from_ase(bulk('Si', 'bcc', a= 3.09, cubic=True))\n",
    "    cell = si_bcc.get_cell()\n",
    "    si_bcc.set_cell(cell * d, scale_atoms=True)\n",
    "    \n",
    "    si_8cd = Ions.from_ase(bulk('Si', 'diamond', a=5.43, cubic=True))\n",
    "    cell = si_8cd.get_cell()\n",
    "    si_8cd.set_cell(cell * d, scale_atoms=True)\n",
    "  \n",
    "    si = bulk('Si', 'diamond', a=5.43, cubic=True)\n",
    "    si.pop(i=1)\n",
    "    si_7cd = Ions.from_ase(si)\n",
    "    cell = si_7cd.get_cell()\n",
    "    si_7cd.set_cell(cell * d, scale_atoms=True)\n",
    "    \n",
    "    traj_Btin.append(si_Btin)\n",
    "    tral_fcc.append(si_fcc)\n",
    "    traj_bcc.append(si_bcc)\n",
    "    traj_8cd.append(si_8cd)\n",
    "    traj_7cd.append(si_7cd)\n",
    "    phases = [si_Btin, si_fcc, si_bcc, si_8cd, si_7cd]\n",
    "\n",
    "    sm = SineMatrix(n_atoms_max=8, flatten=False)\n",
    "    sine_matrices = sm.create(phases, n_jobs=2)\n",
    "    sine_gradient = np.gradient(sine_matrices)\n",
    "    Sine_matrices.append(sine_matrices)\n",
    "    Sine_gradient.append(sine_gradient)\n",
    "    esm = EwaldSumMatrix(n_atoms_max=8)\n",
    "    ewal_matrices = esm.create(phases, n_jobs=2)\n",
    "    Ewal_matrices.append(ewal_matrices)"
   ]
  },
  {
   "cell_type": "code",
   "execution_count": 13,
   "id": "49eadde7",
   "metadata": {},
   "outputs": [],
   "source": [
    "traj = traj_Btin + tral_fcc + traj_bcc + traj_8cd"
   ]
  },
  {
   "cell_type": "code",
   "execution_count": 14,
   "id": "1d25658f",
   "metadata": {},
   "outputs": [],
   "source": [
    "soap = SOAP(\n",
    "        species=[\"Si\"],\n",
    "        periodic=False,\n",
    "        rcut=10.0,\n",
    "        sigma=0.5,\n",
    "        nmax=10,\n",
    "        lmax=0,\n",
    "    )\n",
    "derivative, soap_matrix = soap.derivatives(\n",
    "            traj\n",
    "            )"
   ]
  },
  {
   "cell_type": "code",
   "execution_count": 7,
   "id": "34061fa3",
   "metadata": {},
   "outputs": [
    {
     "data": {
      "text/plain": [
       "(30, 3, 5, 8, 8)"
      ]
     },
     "execution_count": 7,
     "metadata": {},
     "output_type": "execute_result"
    }
   ],
   "source": [
    "np.asarray(Sine_gradient).shape"
   ]
  },
  {
   "cell_type": "code",
   "execution_count": 8,
   "id": "dd5ea823",
   "metadata": {},
   "outputs": [],
   "source": [
    "Fx_Btin = np.asarray(Sine_gradient)[:,0,0,:,:]"
   ]
  },
  {
   "cell_type": "code",
   "execution_count": 17,
   "id": "2333ef12",
   "metadata": {},
   "outputs": [
    {
     "name": "stderr",
     "output_type": "stream",
     "text": [
      "/tmp/ipykernel_270137/4155235967.py:1: VisibleDeprecationWarning: Creating an ndarray from ragged nested sequences (which is a list-or-tuple of lists-or-tuples-or ndarrays with different lengths or shapes) is deprecated. If you meant to do this, you must specify 'dtype=object' when creating the ndarray.\n",
      "  np.asarray(derivative)[1].shape\n"
     ]
    },
    {
     "data": {
      "text/plain": [
       "(4, 4, 3, 55)"
      ]
     },
     "execution_count": 17,
     "metadata": {},
     "output_type": "execute_result"
    }
   ],
   "source": []
  },
  {
   "cell_type": "raw",
   "id": "37716a3d",
   "metadata": {},
   "source": [
    "Fx_Btin[0]"
   ]
  },
  {
   "cell_type": "markdown",
   "id": "58eda5e8",
   "metadata": {},
   "source": [
    "#### Save the data"
   ]
  },
  {
   "cell_type": "code",
   "execution_count": 3,
   "id": "3ae6429d",
   "metadata": {},
   "outputs": [],
   "source": [
    "np.asarray(Sine_matrices).shape\n",
    "np.save('Sine_matrices.npy', np.asarray(Sine_matrices))\n",
    "np.save('Sine_gradient.npy', np.asarray(Sine_gradient))"
   ]
  },
  {
   "cell_type": "code",
   "execution_count": 5,
   "id": "988e5f29",
   "metadata": {
    "scrolled": true
   },
   "outputs": [
    {
     "name": "stderr",
     "output_type": "stream",
     "text": [
      "/home/valeria/anaconda3/lib/python3.9/site-packages/numpy/lib/npyio.py:528: VisibleDeprecationWarning: Creating an ndarray from ragged nested sequences (which is a list-or-tuple of lists-or-tuples-or ndarrays with different lengths or shapes) is deprecated. If you meant to do this, you must specify 'dtype=object' when creating the ndarray.\n",
      "  arr = np.asanyarray(arr)\n"
     ]
    }
   ],
   "source": [
    "np.save('Ewal_matrices.npy', np.asarray(Ewal_matrices))\n",
    "np.save('Soap_matrix.npy', soap_matrix, allow_pickle=True)"
   ]
  },
  {
   "cell_type": "code",
   "execution_count": 24,
   "id": "f4f007e3",
   "metadata": {},
   "outputs": [
    {
     "name": "stderr",
     "output_type": "stream",
     "text": [
      "/home/valeria/anaconda3/lib/python3.9/site-packages/numpy/lib/npyio.py:528: VisibleDeprecationWarning: Creating an ndarray from ragged nested sequences (which is a list-or-tuple of lists-or-tuples-or ndarrays with different lengths or shapes) is deprecated. If you meant to do this, you must specify 'dtype=object' when creating the ndarray.\n",
      "  arr = np.asanyarray(arr)\n"
     ]
    }
   ],
   "source": [
    "np.save('traj_Btim.npy', traj_Btin)\n",
    "np.save('traj_fcc.npy', tral_fcc)\n",
    "np.save('traj_bcc.npy', traj_bcc)\n",
    "np.save('traj_8cd.npy', traj_8cd)\n",
    "np.save('traj_7cd.npy', traj_7cd)\n",
    "np.save('traj.npy', traj)"
   ]
  }
 ],
 "metadata": {
  "kernelspec": {
   "display_name": "Python 3 (ipykernel)",
   "language": "python",
   "name": "python3"
  },
  "language_info": {
   "codemirror_mode": {
    "name": "ipython",
    "version": 3
   },
   "file_extension": ".py",
   "mimetype": "text/x-python",
   "name": "python",
   "nbconvert_exporter": "python",
   "pygments_lexer": "ipython3",
   "version": "3.8.5"
  }
 },
 "nbformat": 4,
 "nbformat_minor": 5
}
