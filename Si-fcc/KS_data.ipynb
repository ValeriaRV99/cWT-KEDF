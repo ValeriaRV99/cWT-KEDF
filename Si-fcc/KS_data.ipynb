{
 "cells": [
  {
   "cell_type": "code",
   "execution_count": 1,
   "id": "ed73933b",
   "metadata": {},
   "outputs": [
    {
     "name": "stderr",
     "output_type": "stream",
     "text": [
      "/home/valeria/anaconda3/lib/python3.9/site-packages/ase/lattice/spacegroup.py:5: UserWarning: Moved to ase.spacegroup\n",
      "  warnings.warn('Moved to ase.spacegroup')\n"
     ]
    }
   ],
   "source": [
    "import numpy as np\n",
    "from matplotlib import pyplot as plt\n",
    "\n",
    "import dftpy\n",
    "from dftpy.ions import Ions\n",
    "from dftpy.field import DirectField\n",
    "from dftpy.grid import DirectGrid\n",
    "from dftpy.functional import LocalPseudo, Functional, TotalFunctional, ExternalPotential\n",
    "from dftpy.formats import io\n",
    "from dftpy.math_utils import ecut2nr\n",
    "from dftpy.time_data import TimeData\n",
    "from dftpy.optimization import Optimization\n",
    "from dftpy.mpi import sprint\n",
    "\n",
    "from qepy.calculator import QEpyCalculator \n",
    "from qepy.io import QEInput\n",
    "from qepy.driver import Driver \n",
    "\n",
    "from ase.build import bulk\n",
    "from ase.io.trajectory import Trajectory\n",
    "from ase.io import read\n",
    "from ase.units import kJ\n",
    "from ase.eos import EquationOfState\n",
    "from ase import Atoms\n",
    "from ase.lattice.spacegroup import Spacegroup\n",
    "from ase.lattice.spacegroup import crystal\n",
    "from ase.visualize import view"
   ]
  },
  {
   "cell_type": "code",
   "execution_count": 2,
   "id": "52858888",
   "metadata": {},
   "outputs": [],
   "source": [
    "from scipy.optimize import minimize\n",
    "try:\n",
    "    from mpi4py import MPI\n",
    "    comm=MPI.COMM_WORLD\n",
    "except:\n",
    "    comm=None\n",
    "path_pp='/home/valeria/Desktop/programs/dftpy/examples/ofpp/EAC/upf/blps/'\n",
    "file1='si.lda.upf'\n",
    "PP_list = {'Si': path_pp+file1}"
   ]
  },
  {
   "cell_type": "code",
   "execution_count": 3,
   "id": "0ee6a784",
   "metadata": {},
   "outputs": [],
   "source": [
    "qe_options = {\n",
    "        '&control': {\n",
    "            'calculation': \"'scf'\",\n",
    "            'prefix': \"'si'\",\n",
    "            'pseudo_dir': \"'/home/valeria/Desktop/programs/dftpy/examples/ofpp/EAC/upf/blps/'\",\n",
    "            'restart_mode': \"'from_scratch'\"},\n",
    "        '&system': {\n",
    "            'ibrav' : 1,\n",
    "            'nat': 4,\n",
    "            'degauss': 0.005,\n",
    "            'ecutwfc': 60,\n",
    "            'occupations': \"'smearing'\"},\n",
    "        'atomic_species': ['Si  28.08 si.lda.upf'],\n",
    "        'cell_parameters angstrom': ['3.405    0.0000000000000000    0.0000000000000003',\n",
    "                                     '0.0000000000000009    3.405   0.0000000000000003',\n",
    "                                     '0.0000000000000000    0.0000000000000000    3.405'],\n",
    "         'k_points automatic': ['20 20 20 1 1 1']}\n",
    "\n",
    "# KS DFT\n",
    "l = np.linspace(0.8, 1.4, 30)\n",
    "# RHO = []\n",
    "ks_ke = []\n",
    "for i in np.arange(0, len(l), 1):\n",
    "        n = int(i)\n",
    "        X = l[n]\n",
    "        si = bulk('Si', 'fcc', a= 3.405, cubic=True)\n",
    "        cell = si.get_cell()\n",
    "        si.set_cell(cell * X, scale_atoms=True)\n",
    "        qe_options = QEInput.update_atoms(si, qe_options = qe_options,  extrapolation=False)\n",
    "        QEInput().write_qe_input(\"/home/valeria/Documents/DFTPY/Fitting_densities/Si-fcc/DATA2/Si\"+str(n)+\".in\", qe_options=qe_options)\n",
    "        driver = Driver('/home/valeria/Documents/DFTPY/Fitting_densities/Si-fcc/DATA2/Si'+str(n)+'.in', comm=comm, logfile='/home/valeria/Documents/DFTPY/Fitting_densities/Si-fcc/DATA2/Si'+str(n)+'.out')\n",
    "        driver.scf()\n",
    "        driver.calc_energy()\n",
    "        D = driver.get_output()\n",
    "        k = [match for match in D if \"Kinetic energy\" in match]\n",
    "        KS_KE = str(k).split()[6]\n",
    "        v_men = driver.get_effective_potential().mean()\n",
    "        KS_PE = driver.data2field(driver.get_effective_potential() - v_men)\n",
    "        rho = driver.data2field(driver.get_density())\n",
    "        ions = driver.get_dftpy_ions()\n",
    "        rho.write('/home/valeria/Documents/DFTPY/Fitting_densities/Si-fcc/DATA2/rho0'+str(i)+'.xsf', ions=ions)\n",
    "        driver.stop()\n",
    "#         RHO.append(rho)\n",
    "        ks_ke.append(KS_KE)"
   ]
  },
  {
   "cell_type": "code",
   "execution_count": 4,
   "id": "caec9eaf",
   "metadata": {},
   "outputs": [],
   "source": [
    "np.save(\"/home/valeria/Documents/DFTPY/Fitting_densities/Si-fcc/DATA2/ks_ke.npy\",np.asarray(ks_ke))"
   ]
  },
  {
   "cell_type": "code",
   "execution_count": 4,
   "id": "caeee721",
   "metadata": {},
   "outputs": [],
   "source": [
    "KS_KE = []\n",
    "for i in np.arange(0,len(l),1):\n",
    "    ke = float(ks_ke[int(i)])\n",
    "    KS_KE.append(ke)"
   ]
  },
  {
   "cell_type": "code",
   "execution_count": 5,
   "id": "9cb0d12a",
   "metadata": {},
   "outputs": [],
   "source": [
    "import pickle\n",
    "var = np.asarray(KS_KE)\n",
    "with open('ks_ke.pkl', 'wb') as f:\n",
    "    pickle.dump(var,f)"
   ]
  },
  {
   "cell_type": "code",
   "execution_count": 7,
   "id": "377eb6f7",
   "metadata": {},
   "outputs": [],
   "source": [
    "with open('ks_ke.pkl','rb') as f:\n",
    "    ks_ke = pickle.load(f)"
   ]
  },
  {
   "cell_type": "code",
   "execution_count": 8,
   "id": "e27bbca9",
   "metadata": {},
   "outputs": [],
   "source": [
    "class setting:\n",
    "    def sett(ions, rho, scaling):\n",
    "        ions = ions\n",
    "        rho = rho\n",
    "        scaling = scaling\n",
    "        cell = ions.get_cell()\n",
    "        ions.set_cell(cell * scaling, scale_atoms=True) \n",
    "        nr = ecut2nr(ecut=147, lattice=ions.cell)\n",
    "        grid = DirectGrid(lattice=ions.cell, nr=[len(rho),len(rho),len(rho)])\n",
    "        PSEUDO = LocalPseudo(grid = grid, ions=ions, PP_list=PP_list)  \n",
    "        XC = Functional(type='XC',name='LDA')\n",
    "        HARTREE = Functional(type='HARTREE')\n",
    "        return PSEUDO, HARTREE, XC"
   ]
  },
  {
   "cell_type": "code",
   "execution_count": 9,
   "id": "475e0a11",
   "metadata": {},
   "outputs": [],
   "source": [
    "def min_energy(x0, *args):\n",
    "        KS_KE, KS_PE, rho = args\n",
    "        KE = Functional(type='KEDF',name='WT', rho0=x0) \n",
    "        OF_KE = KE(rho).energy\n",
    "#         pot = KE(rho, calctype = {'V'}).potential\n",
    "#         OF_PE =  pot - pot.min()\n",
    "#         pot = rho*(KS_PE - OF_PE)\n",
    "        diff = 0.1*(float(OF_KE)-float(KS_KE)*(1/2))**2 #+ 0.1*(pot.integral())**2\n",
    "#         print(x0)\n",
    "        return diff"
   ]
  },
  {
   "cell_type": "code",
   "execution_count": 10,
   "id": "c9e18f3f",
   "metadata": {},
   "outputs": [
    {
     "name": "stdout",
     "output_type": "stream",
     "text": [
      "setting key: Si -> /home/valeria/Desktop/programs/dftpy/examples/DATA/ofpp/si.lda.upf\n"
     ]
    },
    {
     "name": "stderr",
     "output_type": "stream",
     "text": [
      "/tmp/ipykernel_638744/739585304.py:22: OptimizeWarning: Unknown solver options: xtol\n",
      "  minn = minimize(min_energy, 0.02, args = (KS_KE, KS_PE, rho), method='Nelder-Mead',\n",
      "/home/valeria/anaconda3/lib/python3.9/site-packages/dftpy/functional/kedf/kernel.py:329: RuntimeWarning: invalid value encountered in power\n",
      "  tkf = 2.0 * (3.0 * rho0 * np.pi ** 2) ** (1.0 / 3.0)\n"
     ]
    },
    {
     "name": "stdout",
     "output_type": "stream",
     "text": [
      "Optimization terminated successfully.\n",
      "         Current function value: 0.000000\n",
      "         Iterations: 11\n",
      "         Function evaluations: 22\n",
      "[0.0048125]\n",
      "setting key: Si -> /home/valeria/Desktop/programs/dftpy/examples/DATA/ofpp/si.lda.upf\n",
      "Optimization terminated successfully.\n",
      "         Current function value: 0.000000\n",
      "         Iterations: 9\n",
      "         Function evaluations: 18\n",
      "[0.0145]\n",
      "setting key: Si -> /home/valeria/Desktop/programs/dftpy/examples/DATA/ofpp/si.lda.upf\n",
      "Optimization terminated successfully.\n",
      "         Current function value: 0.000000\n",
      "         Iterations: 8\n",
      "         Function evaluations: 16\n",
      "[0.017]\n",
      "setting key: Si -> /home/valeria/Desktop/programs/dftpy/examples/DATA/ofpp/si.lda.upf\n",
      "Optimization terminated successfully.\n",
      "         Current function value: 0.000000\n",
      "         Iterations: 12\n",
      "         Function evaluations: 24\n",
      "[0.042625]\n",
      "setting key: Si -> /home/valeria/Desktop/programs/dftpy/examples/DATA/ofpp/si.lda.upf\n",
      "Optimization terminated successfully.\n",
      "         Current function value: 0.000000\n",
      "         Iterations: 11\n",
      "         Function evaluations: 22\n",
      "[0.0385625]\n",
      "setting key: Si -> /home/valeria/Desktop/programs/dftpy/examples/DATA/ofpp/si.lda.upf\n",
      "Optimization terminated successfully.\n",
      "         Current function value: 0.000000\n",
      "         Iterations: 11\n",
      "         Function evaluations: 22\n",
      "[0.0353125]\n",
      "setting key: Si -> /home/valeria/Desktop/programs/dftpy/examples/DATA/ofpp/si.lda.upf\n",
      "Optimization terminated successfully.\n",
      "         Current function value: 0.000000\n",
      "         Iterations: 10\n",
      "         Function evaluations: 20\n",
      "[0.0324375]\n",
      "setting key: Si -> /home/valeria/Desktop/programs/dftpy/examples/DATA/ofpp/si.lda.upf\n",
      "Optimization terminated successfully.\n",
      "         Current function value: 0.000000\n",
      "         Iterations: 10\n",
      "         Function evaluations: 20\n",
      "[0.0299375]\n",
      "setting key: Si -> /home/valeria/Desktop/programs/dftpy/examples/DATA/ofpp/si.lda.upf\n",
      "Optimization terminated successfully.\n",
      "         Current function value: 0.000000\n",
      "         Iterations: 9\n",
      "         Function evaluations: 18\n",
      "[0.0278125]\n",
      "setting key: Si -> /home/valeria/Desktop/programs/dftpy/examples/DATA/ofpp/si.lda.upf\n",
      "Optimization terminated successfully.\n",
      "         Current function value: 0.000000\n",
      "         Iterations: 8\n",
      "         Function evaluations: 16\n",
      "[0.0259375]\n"
     ]
    }
   ],
   "source": [
    "ions = Ions.from_ase(bulk('Si', 'fcc', a= 3.405, cubic=True))\n",
    "# i = 2\n",
    "l = np.linspace(0.9, 1.5, 10)\n",
    "delta_E = []\n",
    "Rho0 = []\n",
    "for n in np.arange(0,len(l),1):\n",
    "    i = int(n)\n",
    "    rho = io.read_density('rho0'+str(i)+'.xsf')\n",
    "#     rho = RHO[int(i)]\n",
    "    scaling = l[i]\n",
    "\n",
    "    PSEUDO, HARTREE, XC = setting.sett(ions,rho,scaling)\n",
    "    H_PE = HARTREE(rho, calctype = {'V'}).potential\n",
    "    XC_PE = XC(rho, calctype = {'V'}).potential\n",
    "    PP_PE = PSEUDO(rho, calctype = {'V'}).potential\n",
    "    \n",
    "    KS_KE = ks_ke[int(i)]\n",
    "    Ef_PE = H_PE + XC_PE + PP_PE\n",
    "    KS_PE = Ef_PE - Ef_PE.min()\n",
    "    \n",
    "    bnds = ((0, None))\n",
    "    minn = minimize(min_energy, 0.02, args = (KS_KE, KS_PE, rho), method='Nelder-Mead',\n",
    "               options={'xtol': 1e-4,'disp': True})\n",
    "    delta_E.append(minn.fun)\n",
    "    Rho0.append(minn.x)\n",
    "    print(minn.x)"
   ]
  },
  {
   "cell_type": "code",
   "execution_count": 11,
   "id": "9de05184",
   "metadata": {},
   "outputs": [
    {
     "data": {
      "text/plain": [
       "[<matplotlib.lines.Line2D at 0x7f39ca586910>]"
      ]
     },
     "execution_count": 11,
     "metadata": {},
     "output_type": "execute_result"
    },
    {
     "data": {
      "image/png": "[encoded data removed]",
      "text/plain": [
       "<Figure size 640x480 with 1 Axes>"
      ]
     },
     "metadata": {},
     "output_type": "display_data"
    }
   ],
   "source": [
    "plt.plot(Rho0,delta_E)"
   ]
  },
  {
   "cell_type": "code",
   "execution_count": null,
   "id": "b7b2b1b8",
   "metadata": {},
   "outputs": [],
   "source": []
  }
 ],
 "metadata": {
  "kernelspec": {
   "display_name": "Python 3 (ipykernel)",
   "language": "python",
   "name": "python3"
  },
  "language_info": {
   "codemirror_mode": {
    "name": "ipython",
    "version": 3
   },
   "file_extension": ".py",
   "mimetype": "text/x-python",
   "name": "python",
   "nbconvert_exporter": "python",
   "pygments_lexer": "ipython3",
   "version": "3.9.13"
  }
 },
 "nbformat": 4,
 "nbformat_minor": 5
}
