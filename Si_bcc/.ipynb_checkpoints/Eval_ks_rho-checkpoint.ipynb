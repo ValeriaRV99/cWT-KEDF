{
 "cells": [
  {
   "cell_type": "code",
   "execution_count": 1,
   "id": "b36f233a",
   "metadata": {},
   "outputs": [
    {
     "name": "stderr",
     "output_type": "stream",
     "text": [
      "/home/vr371/.local/lib/python3.8/site-packages/ase/lattice/spacegroup.py:5: UserWarning: Moved to ase.spacegroup\n",
      "  warnings.warn('Moved to ase.spacegroup')\n"
     ]
    }
   ],
   "source": [
    "import numpy as np\n",
    "from matplotlib import pyplot as plt\n",
    "\n",
    "from dftpy.ions import Ions\n",
    "from dftpy.field import DirectField\n",
    "from dftpy.grid import DirectGrid\n",
    "from dftpy.functional import LocalPseudo, Functional, TotalFunctional, ExternalPotential\n",
    "from dftpy.formats import io\n",
    "from dftpy.math_utils import ecut2nr\n",
    "from dftpy.time_data import TimeData\n",
    "from dftpy.optimization import Optimization\n",
    "from dftpy.mpi import sprint\n",
    "\n",
    "from qepy.calculator import QEpyCalculator \n",
    "from qepy.io import QEInput\n",
    "from qepy.driver import Driver\n",
    "\n",
    "from ase.build import bulk\n",
    "from ase.io import read\n",
    "from ase.lattice.spacegroup import Spacegroup\n",
    "from ase.lattice.spacegroup import crystal\n",
    "\n",
    "import pickle"
   ]
  },
  {
   "cell_type": "markdown",
   "id": "202929e3",
   "metadata": {},
   "source": [
    "#### Porpose of this code\n",
    "Evaluate the energy of the system using OFDFT with the  $\\rho_{0}$'s found in the code named rho0_dT. In this code we will use the KS electron density, and we will include in the OF calculation the corrected Wang-Teter KEDF to obtain the equation of states graph."
   ]
  },
  {
   "cell_type": "code",
   "execution_count": 2,
   "id": "ed799bb7",
   "metadata": {},
   "outputs": [],
   "source": [
    "path_pp='/home/vr371/PP/ofpp/EAC/upf/blps/'\n",
    "file1='si.lda.upf'\n",
    "PP_list = {'Si': path_pp+file1}"
   ]
  },
  {
   "cell_type": "code",
   "execution_count": 3,
   "id": "12b057e0",
   "metadata": {},
   "outputs": [
    {
     "ename": "FileNotFoundError",
     "evalue": "[Errno 2] No such file or directory: '.../Si-bcc/DATA2/rho0.npy'",
     "output_type": "error",
     "traceback": [
      "\u001b[0;31m---------------------------------------------------------------------------\u001b[0m",
      "\u001b[0;31mFileNotFoundError\u001b[0m                         Traceback (most recent call last)",
      "Cell \u001b[0;32mIn [3], line 1\u001b[0m\n\u001b[0;32m----> 1\u001b[0m rho00 \u001b[38;5;241m=\u001b[39m \u001b[43mnp\u001b[49m\u001b[38;5;241;43m.\u001b[39;49m\u001b[43mload\u001b[49m\u001b[43m(\u001b[49m\u001b[38;5;124;43m'\u001b[39;49m\u001b[38;5;124;43m.../Si-bcc/DATA2/rho0.npy\u001b[39;49m\u001b[38;5;124;43m'\u001b[39;49m\u001b[43m)\u001b[49m\n\u001b[1;32m      2\u001b[0m KS_TE \u001b[38;5;241m=\u001b[39m []\n\u001b[1;32m      3\u001b[0m \u001b[38;5;28;01mfor\u001b[39;00m i \u001b[38;5;129;01min\u001b[39;00m np\u001b[38;5;241m.\u001b[39marange(\u001b[38;5;241m0\u001b[39m,\u001b[38;5;241m30\u001b[39m,\u001b[38;5;241m1\u001b[39m):\n",
      "File \u001b[0;32m~/.local/lib/python3.8/site-packages/numpy/lib/npyio.py:405\u001b[0m, in \u001b[0;36mload\u001b[0;34m(file, mmap_mode, allow_pickle, fix_imports, encoding, max_header_size)\u001b[0m\n\u001b[1;32m    403\u001b[0m     own_fid \u001b[38;5;241m=\u001b[39m \u001b[38;5;28;01mFalse\u001b[39;00m\n\u001b[1;32m    404\u001b[0m \u001b[38;5;28;01melse\u001b[39;00m:\n\u001b[0;32m--> 405\u001b[0m     fid \u001b[38;5;241m=\u001b[39m stack\u001b[38;5;241m.\u001b[39menter_context(\u001b[38;5;28;43mopen\u001b[39;49m\u001b[43m(\u001b[49m\u001b[43mos_fspath\u001b[49m\u001b[43m(\u001b[49m\u001b[43mfile\u001b[49m\u001b[43m)\u001b[49m\u001b[43m,\u001b[49m\u001b[43m \u001b[49m\u001b[38;5;124;43m\"\u001b[39;49m\u001b[38;5;124;43mrb\u001b[39;49m\u001b[38;5;124;43m\"\u001b[39;49m\u001b[43m)\u001b[49m)\n\u001b[1;32m    406\u001b[0m     own_fid \u001b[38;5;241m=\u001b[39m \u001b[38;5;28;01mTrue\u001b[39;00m\n\u001b[1;32m    408\u001b[0m \u001b[38;5;66;03m# Code to distinguish from NumPy binary files and pickles.\u001b[39;00m\n",
      "\u001b[0;31mFileNotFoundError\u001b[0m: [Errno 2] No such file or directory: '.../Si-bcc/DATA2/rho0.npy'"
     ]
    }
   ],
   "source": [
    "rho00 = np.load('/home/vr371/cWT-KEDF/Phases/DATA/Si_bcc/DATA2/rho0.npy')\n",
    "KS_TE = []\n",
    "for i in np.arange(0,30,1):\n",
    "    with open('/home/vr371/cWT-KEDF/Phases/DATA/Si_bcc/DATA2/Si'+str(i)+'.out') as D:\n",
    "        k = [match for match in D if \"Total energy\" in match]\n",
    "    KS_te = str(k).split()[6]\n",
    "    KS_TE.append(float(KS_te)) "
   ]
  },
  {
   "cell_type": "code",
   "execution_count": null,
   "id": "cfe8a1f0",
   "metadata": {
    "scrolled": true
   },
   "outputs": [],
   "source": [
    "l = np.linspace(0.8, 1.4, 30)\n",
    "rho0 = np.asarray(rho00)\n",
    "XC = Functional(type='XC',name='LDA')\n",
    "HARTREE = Functional(type='HARTREE')\n",
    "\n",
    "ENERGY = []\n",
    "VOLUME = []\n",
    "Forces = []\n",
    "\n",
    "for n in np.arange(0, 30, 1):\n",
    "        i = int(n)\n",
    "        \n",
    "        KE = Functional(type='KEDF',name='WT', rho0=rho0[i])\n",
    "        ions = Ions.from_ase(bulk('Si', 'bcc', a= 3.09, cubic=True))\n",
    "        cell = ions.get_cell()\n",
    "        ions.set_cell(cell * l[i], scale_atoms=True)\n",
    "        move_atom = ions[1]\n",
    "        move_atom.position[0] += 0.2\n",
    "        rho = io.read_density('.../Si-bcc/DATA2/rho0'+str(i)+'.xsf')    \n",
    "        grid = DirectGrid(lattice=ions.cell, nr=[len(rho),len(rho),len(rho[0,0])])\n",
    "        PSEUDO = LocalPseudo(grid = grid, ions=ions, PP_list=PP_list, rcut=10)\n",
    "        evaluator = TotalFunctional(KE=KE, XC=XC, HARTREE=HARTREE, PSEUDO=PSEUDO)\n",
    "        \n",
    "        energy = evaluator.Energy(rho=rho, ions=ions)\n",
    "        vol=ions.get_volume()\n",
    "\n",
    "        ENERGY.append(energy)\n",
    "        VOLUME.append(vol)"
   ]
  },
  {
   "cell_type": "code",
   "execution_count": null,
   "id": "a703b0f7",
   "metadata": {},
   "outputs": [],
   "source": [
    "plt.plot(np.asarray(VOLUME)*0.529177**3/4,np.asarray(ENERGY)*27.211407/4,'*--')\n",
    "plt.plot(np.asarray(VOLUME)*0.529177**3/4, np.asarray(KS_TE)*27.211407/8,'*--')\n",
    "plt.xlabel('Volume ($\\AA^{3}$)')\n",
    "plt.ylabel('Energy (eV/atom)')\n",
    "plt.title('Si-bcc')\n",
    "plt.legend(['cWT','KS'])"
   ]
  },
  {
   "cell_type": "code",
   "execution_count": null,
   "id": "a78c28aa",
   "metadata": {},
   "outputs": [],
   "source": []
  }
 ],
 "metadata": {
  "kernelspec": {
   "display_name": "Python 3 (ipykernel)",
   "language": "python",
   "name": "python3"
  },
  "language_info": {
   "codemirror_mode": {
    "name": "ipython",
    "version": 3
   },
   "file_extension": ".py",
   "mimetype": "text/x-python",
   "name": "python",
   "nbconvert_exporter": "python",
   "pygments_lexer": "ipython3",
   "version": "3.8.5"
  }
 },
 "nbformat": 4,
 "nbformat_minor": 5
}
